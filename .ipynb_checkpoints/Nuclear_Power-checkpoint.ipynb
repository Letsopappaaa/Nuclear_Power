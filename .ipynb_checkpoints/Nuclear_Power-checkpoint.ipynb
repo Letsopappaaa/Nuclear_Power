{
 "cells": [
  {
   "cell_type": "markdown",
   "id": "2f04c123",
   "metadata": {},
   "source": [
    "# Nuclear power around the world\n",
    "\n",
    "### It is challanging to find a comprihensive dataset of power production on a reactor level. There is public data out there available on pris.iaea.org, however there is no way to download this data, so I built a simple web-scraped to collect everything I need.\n",
    "\n",
    "[GitHub Repo](https://github.com/Letsopappaaa/Nuclear_Power) including all source tables I have used for the visualizations."
   ]
  },
  {
   "cell_type": "code",
   "execution_count": 37,
   "id": "63b84c73",
   "metadata": {},
   "outputs": [],
   "source": [
    "import pandas as pd\n",
    "from bs4 import BeautifulSoup\n",
    "import requests\n",
    "import time\n",
    "import numpy as np"
   ]
  },
  {
   "cell_type": "code",
   "execution_count": null,
   "id": "799f3249",
   "metadata": {},
   "outputs": [],
   "source": [
    "baseURL = 'https://pris.iaea.org/PRIS/CountryStatistics/ReactorDetails.aspx?current='\n",
    "\n",
    "headers = {\n",
    "    'User-Agent': 'Personal project; Your Name',\n",
    "    'From': 'your@email.com'\n",
    "}\n",
    "\n",
    "main_tables_list = []\n",
    "reactor_details_list = []\n",
    "\n",
    "#The URL of reactor details simply ends in the index number of the reactor.\n",
    "for i in range(1,1150):\n",
    "\tcur_url = baseURL + str(i)\n",
    "\tcur_html = requests.get(cur_url, headers = headers).text\n",
    "\tsoup = BeautifulSoup(cur_html, 'html.parser')\n",
    "\t#Some reactor index numbers are not populated, those URLs return an error page\n",
    "\tif soup.find('div', id='content').h3.text.strip() != \"Unauthorized Access\" and soup.find('div', id='content').h3.text.strip() != \"Unexpected Problem Occurred\":\n",
    "\t\t##Parsing HTML to find country and reactor name, html tables\n",
    "\t\ttables = pd.read_html(cur_html)\n",
    "\t\treactor_name = soup.find('span', id='MainContent_MainContent_lblReactorName').b.text.strip()\n",
    "\t\tcountry_name = soup.find('a', id='MainContent_litCaption').text.strip().capitalize()\n",
    "        \n",
    "        #Replacing some country names to have no commas. Tableau gets confused from commas within strings in CSV files, at least I was not able to figure out a way to make it work properly.\n",
    "\t\tif country_name == \"Iran, islamic republic of\":\n",
    "\t\t\tcountry_name = \"Iran\"\n",
    "\t\telif country_name == \"Korea, republic of\":\n",
    "\t\t\tcountry_name = \"Korea\"\n",
    "\t\telif country_name == \"Taiwan, china\":\n",
    "\t\t\tcountry_name = \"Taiwan\"\n",
    "\n",
    "\t\t#Some reactors do not have any production data, and no main data table which means there are only 2 tables on the page\n",
    "\t\tif len(tables)>2:\n",
    "\t\t\t##Amending main data table with country and reactor names\n",
    "\t\t\ttables[2][\"Country\"] = country_name\n",
    "\t\t\ttables[2][\"Reactor_name\"] = reactor_name\n",
    "\t\t\t#Add main table data to list\n",
    "\t\t\tmain_tables_list = main_tables_list + tables[2].values.tolist()\n",
    "\n",
    "\t\t#Add reactor details to list\n",
    "\t\tcurrent_detail = [tables[0][0][1],\n",
    "                          tables[0][1][1],\n",
    "                          tables[0][1][3],\n",
    "                          tables[0][0][5],\n",
    "                          tables[0][1][7],\n",
    "                          tables[0][2][1],\n",
    "                          tables[0][3][1],\n",
    "                          tables[0][0][9],\n",
    "                          country_name,\n",
    "                          reactor_name]\n",
    "\t\treactor_details_list.append(current_detail)\n",
    "\t\tmessage = \"Reactor ID: (\" + str(i) + \") details collected.\"\n",
    "\telse:\n",
    "\t\tmessage = \"Reactor ID: (\" + str(i) + \") did not return a valid page.\"\n",
    "\tprint(message)\n",
    "\ttime.sleep(0.3)\n",
    "    "
   ]
  },
  {
   "cell_type": "markdown",
   "id": "efd29e3a",
   "metadata": {},
   "source": [
    "#### Creating dataframes from our collected lists"
   ]
  },
  {
   "cell_type": "code",
   "execution_count": 42,
   "id": "995a77d1",
   "metadata": {},
   "outputs": [],
   "source": [
    "reactor_details_df = pd.DataFrame(reactor_details_list, columns=[\n",
    "\t\"reactor_Type\", \n",
    "\t'model', \n",
    "\t'design_net_capacity', \n",
    "\t'construction_start_date', \n",
    "\t\"commercial_operation_date\", \n",
    "\t\"owner\", \n",
    "\t\"operator\", \n",
    "\t\"Shutdown Date\",\n",
    "\t\"country\", \n",
    "\t\"reactor_name\"])\n",
    "\n",
    "main_tables_df = pd.DataFrame(main_tables_list, columns = [\n",
    "\t\"Year\", \n",
    "\t\"Electricity Supplied [GW.h]\", \n",
    "\t\"Reference Unit Power [MW]\", \n",
    "\t\"Annual Time On Line [h]\", \n",
    "\t\"Operation Factor [%]\", \n",
    "\t\"Annual Energy Availability Factor [%]\", \n",
    "\t\"Cumulative Energy Availability Factor [%]\", \n",
    "\t\"Annual Load Factor [%]\", \n",
    "\t\"Cumulative Load Factor [%]\", \n",
    "\t\"country\", \n",
    "\t\"reactor_name\"])"
   ]
  },
  {
   "cell_type": "markdown",
   "id": "52e373c9",
   "metadata": {},
   "source": [
    "### Data cleanup"
   ]
  },
  {
   "cell_type": "code",
   "execution_count": 43,
   "id": "e2e1c184",
   "metadata": {},
   "outputs": [],
   "source": [
    "#Clean up string values, empty values and NaN in all columns that should have only numerical data\n",
    "for col in main_tables_df.columns:\n",
    "    if \"[\" in col:\n",
    "        main_tables_df[col] = (pd.to_numeric(main_tables_df[col],errors='coerce').fillna(0))\n",
    "\n",
    "for col in reactor_details_df.columns:\n",
    "    reactor_details_df[col] = reactor_details_df[col].fillna(0)\n",
    "\n",
    "#Keep only numeric values for capacity\n",
    "reactor_details_df[\"design_net_capacity\"] = reactor_details_df.design_net_capacity.str.extract('(\\d+)')\n"
   ]
  },
  {
   "cell_type": "markdown",
   "id": "e2a80cc9",
   "metadata": {},
   "source": [
    "### Adding columns"
   ]
  },
  {
   "cell_type": "code",
   "execution_count": 44,
   "id": "729b62b0",
   "metadata": {},
   "outputs": [],
   "source": [
    "# Adding reactur status based on available commercial operation date, or shutdown date\n",
    "reactor_details_df[\"Status\"] = np.where(reactor_details_df[\"Shutdown Date\"]!= 0, \"Permanent shutdown\",\n",
    "                            np.where(reactor_details_df[\"commercial_operation_date\"]== 0, \"Under Construction\", \"Operational\"))\n",
    "main_tables_df[\"Calendar_Date\"] = pd.to_datetime(dict(year=main_tables_df['Year'], month=1, day=1)).dt.date"
   ]
  },
  {
   "cell_type": "markdown",
   "id": "13bbf111",
   "metadata": {},
   "source": [
    "#### Saving dataframes to .csv files for further use. Available in git repo."
   ]
  },
  {
   "cell_type": "code",
   "execution_count": 51,
   "id": "e697abf0",
   "metadata": {},
   "outputs": [],
   "source": [
    "main_tables_df.to_csv(path_or_buf = \"main_tables_output.csv\", index=False)\n",
    "reactor_details_df.to_csv(path_or_buf = \"reactor_details_output.csv\", index=False)\n",
    "\n",
    "#load df from csv files if necessary\n",
    "#main_tables_df = pd.read_csv(\"main_tables_output.csv\", sep=';')\n",
    "#reactor_details_df = pd.read_csv(\"reactor_details_output.csv\", sep=';')"
   ]
  },
  {
   "cell_type": "markdown",
   "id": "63162a99",
   "metadata": {},
   "source": [
    "#### Some additional data formating was performed in Excel, to align to other data sources, then the data was imported to Tableau.\n"
   ]
  },
  {
   "cell_type": "markdown",
   "id": "fd38dae3",
   "metadata": {},
   "source": [
    "#### Unfortunately I could not get the sizing quite right to fit the dimensions of a jupyter notebook, viewing the dashboard in full-screen mode is suggested.\n",
    "\n",
    "In case the below cell does not render, here is the link to the dashboard: https://public.tableau.com/app/profile/peter.oravecz/viz/Nuclearpower/Dashboard1"
   ]
  },
  {
   "cell_type": "code",
   "execution_count": 8,
   "id": "f713af6f",
   "metadata": {
    "scrolled": true
   },
   "outputs": [
    {
     "data": {
      "text/html": [
       "<div class='tableauPlaceholder' id='viz1632432476878' style='position: relative'><noscript><a href='#'><img alt='Dashboard 1 ' src='https:&#47;&#47;public.tableau.com&#47;static&#47;images&#47;Nu&#47;Nuclearpower&#47;Dashboard1&#47;1_rss.png' style='border: none' /></a></noscript><object class='tableauViz'  style='display:none;'><param name='host_url' value='https%3A%2F%2Fpublic.tableau.com%2F' /> <param name='embed_code_version' value='3' /> <param name='site_root' value='' /><param name='name' value='Nuclearpower&#47;Dashboard1' /><param name='tabs' value='no' /><param name='toolbar' value='yes' /><param name='static_image' value='https:&#47;&#47;public.tableau.com&#47;static&#47;images&#47;Nu&#47;Nuclearpower&#47;Dashboard1&#47;1.png' /> <param name='animate_transition' value='yes' /><param name='display_static_image' value='yes' /><param name='display_spinner' value='yes' /><param name='display_overlay' value='yes' /><param name='display_count' value='yes' /><param name='language' value='en-US' /><param name='filter' value='publish=yes' /></object></div>                <script type='text/javascript'>                    var divElement = document.getElementById('viz1632432476878');                    var vizElement = divElement.getElementsByTagName('object')[0];                    if ( divElement.offsetWidth > 800 ) { vizElement.style.width='100%';vizElement.style.height=(divElement.offsetWidth*0.75)+'px';} else if ( divElement.offsetWidth > 500 ) { vizElement.style.width='100%';vizElement.style.height=(divElement.offsetWidth*0.75)+'px';} else { vizElement.style.width='100%';vizElement.style.height='1577px';}                     var scriptElement = document.createElement('script');                    scriptElement.src = 'https://public.tableau.com/javascripts/api/viz_v1.js';                    vizElement.parentNode.insertBefore(scriptElement, vizElement);                </script>\n"
      ],
      "text/plain": [
       "<IPython.core.display.HTML object>"
      ]
     },
     "metadata": {},
     "output_type": "display_data"
    }
   ],
   "source": [
    "%%HTML\n",
    "<div class='tableauPlaceholder' id='viz1632432476878' style='position: relative'><noscript><a href='#'><img alt='Dashboard 1 ' src='https:&#47;&#47;public.tableau.com&#47;static&#47;images&#47;Nu&#47;Nuclearpower&#47;Dashboard1&#47;1_rss.png' style='border: none' /></a></noscript><object class='tableauViz'  style='display:none;'><param name='host_url' value='https%3A%2F%2Fpublic.tableau.com%2F' /> <param name='embed_code_version' value='3' /> <param name='site_root' value='' /><param name='name' value='Nuclearpower&#47;Dashboard1' /><param name='tabs' value='no' /><param name='toolbar' value='yes' /><param name='static_image' value='https:&#47;&#47;public.tableau.com&#47;static&#47;images&#47;Nu&#47;Nuclearpower&#47;Dashboard1&#47;1.png' /> <param name='animate_transition' value='yes' /><param name='display_static_image' value='yes' /><param name='display_spinner' value='yes' /><param name='display_overlay' value='yes' /><param name='display_count' value='yes' /><param name='language' value='en-US' /><param name='filter' value='publish=yes' /></object></div>                <script type='text/javascript'>                    var divElement = document.getElementById('viz1632432476878');                    var vizElement = divElement.getElementsByTagName('object')[0];                    if ( divElement.offsetWidth > 800 ) { vizElement.style.width='100%';vizElement.style.height=(divElement.offsetWidth*0.75)+'px';} else if ( divElement.offsetWidth > 500 ) { vizElement.style.width='100%';vizElement.style.height=(divElement.offsetWidth*0.75)+'px';} else { vizElement.style.width='100%';vizElement.style.height='1577px';}                     var scriptElement = document.createElement('script');                    scriptElement.src = 'https://public.tableau.com/javascripts/api/viz_v1.js';                    vizElement.parentNode.insertBefore(scriptElement, vizElement);                </script>"
   ]
  }
 ],
 "metadata": {
  "kernelspec": {
   "display_name": "Python 3 (ipykernel)",
   "language": "python",
   "name": "python3"
  },
  "language_info": {
   "codemirror_mode": {
    "name": "ipython",
    "version": 3
   },
   "file_extension": ".py",
   "mimetype": "text/x-python",
   "name": "python",
   "nbconvert_exporter": "python",
   "pygments_lexer": "ipython3",
   "version": "3.9.6"
  }
 },
 "nbformat": 4,
 "nbformat_minor": 5
}
